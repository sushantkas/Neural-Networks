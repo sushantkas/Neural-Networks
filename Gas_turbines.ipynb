{
 "cells": [
  {
   "cell_type": "code",
   "execution_count": 50,
   "metadata": {},
   "outputs": [],
   "source": [
    "from keras.wrappers.scikit_learn import KerasRegressor\n",
    "import pandas as pd\n",
    "import numpy as np\n",
    "import sklearn\n",
    "from sklearn.model_selection import train_test_split\n",
    "from sklearn import metrics\n",
    "from keras.models import Sequential\n",
    "from keras.layers.core import Dense, Activation\n",
    "from keras.callbacks import EarlyStopping\n",
    "from keras.callbacks import ModelCheckpoint\n",
    "from sklearn.model_selection import GridSearchCV\n",
    "from sklearn.preprocessing import MinMaxScaler\n",
    "import warnings\n",
    "warnings.filterwarnings(\"ignore\")"
   ]
  },
  {
   "cell_type": "code",
   "execution_count": 51,
   "metadata": {},
   "outputs": [],
   "source": [
    "turbines1=pd.read_csv(\"gas_turbines.csv\")\n",
    "x=turbines1.drop(\"TEY\", axis=1)\n",
    "y=turbines1[\"TEY\"]\n"
   ]
  },
  {
   "cell_type": "code",
   "execution_count": 52,
   "metadata": {},
   "outputs": [
    {
     "data": {
      "text/plain": [
       "(15039, 10)"
      ]
     },
     "execution_count": 52,
     "metadata": {},
     "output_type": "execute_result"
    }
   ],
   "source": [
    "x.shape"
   ]
  },
  {
   "cell_type": "code",
   "execution_count": null,
   "metadata": {},
   "outputs": [],
   "source": []
  },
  {
   "cell_type": "code",
   "execution_count": 53,
   "metadata": {},
   "outputs": [],
   "source": [
    "y=np.reshape(y.values, (-1,1))"
   ]
  },
  {
   "cell_type": "code",
   "execution_count": 54,
   "metadata": {},
   "outputs": [],
   "source": [
    "scaler_x=MinMaxScaler()\n",
    "scaler_y=MinMaxScaler()"
   ]
  },
  {
   "cell_type": "code",
   "execution_count": 55,
   "metadata": {},
   "outputs": [],
   "source": [
    "x_transform=scaler_x.fit_transform(x)\n",
    "y_transform=scaler_y.fit_transform(y)"
   ]
  },
  {
   "cell_type": "code",
   "execution_count": 56,
   "metadata": {},
   "outputs": [
    {
     "name": "stdout",
     "output_type": "stream",
     "text": [
      "Model: \"sequential_3\"\n",
      "_________________________________________________________________\n",
      " Layer (type)                Output Shape              Param #   \n",
      "=================================================================\n",
      " dense_9 (Dense)             (None, 12)                132       \n",
      "                                                                 \n",
      " dense_10 (Dense)            (None, 8)                 104       \n",
      "                                                                 \n",
      " dense_11 (Dense)            (None, 1)                 9         \n",
      "                                                                 \n",
      "=================================================================\n",
      "Total params: 245\n",
      "Trainable params: 245\n",
      "Non-trainable params: 0\n",
      "_________________________________________________________________\n"
     ]
    }
   ],
   "source": [
    "model = Sequential()\n",
    "model.add(Dense(12, input_dim=10, kernel_initializer='normal', activation='relu'))\n",
    "model.add(Dense(8, activation='relu'))\n",
    "model.add(Dense(1, activation='linear'))\n",
    "model.summary()"
   ]
  },
  {
   "cell_type": "code",
   "execution_count": 57,
   "metadata": {},
   "outputs": [],
   "source": [
    "X_train, X_test, y_train, y_test = train_test_split(x_transform, y_transform)"
   ]
  },
  {
   "cell_type": "code",
   "execution_count": 58,
   "metadata": {},
   "outputs": [],
   "source": [
    "model.compile(loss='mse', optimizer='adam', metrics=['mse','mae'])"
   ]
  },
  {
   "cell_type": "code",
   "execution_count": 59,
   "metadata": {},
   "outputs": [
    {
     "name": "stdout",
     "output_type": "stream",
     "text": [
      "Epoch 1/150\n",
      "181/181 [==============================] - 1s 3ms/step - loss: 0.0368 - mse: 0.0368 - mae: 0.1360 - val_loss: 0.0053 - val_mse: 0.0053 - val_mae: 0.0565\n",
      "Epoch 2/150\n",
      "181/181 [==============================] - 0s 2ms/step - loss: 0.0015 - mse: 0.0015 - mae: 0.0285 - val_loss: 8.2836e-04 - val_mse: 8.2836e-04 - val_mae: 0.0210\n",
      "Epoch 3/150\n",
      "181/181 [==============================] - 0s 2ms/step - loss: 6.1631e-04 - mse: 6.1631e-04 - mae: 0.0179 - val_loss: 4.6780e-04 - val_mse: 4.6780e-04 - val_mae: 0.0149\n",
      "Epoch 4/150\n",
      "181/181 [==============================] - 0s 2ms/step - loss: 3.6003e-04 - mse: 3.6003e-04 - mae: 0.0132 - val_loss: 3.1014e-04 - val_mse: 3.1014e-04 - val_mae: 0.0118\n",
      "Epoch 5/150\n",
      "181/181 [==============================] - 0s 2ms/step - loss: 2.3119e-04 - mse: 2.3119e-04 - mae: 0.0105 - val_loss: 2.2905e-04 - val_mse: 2.2905e-04 - val_mae: 0.0103\n",
      "Epoch 6/150\n",
      "181/181 [==============================] - 0s 2ms/step - loss: 1.7814e-04 - mse: 1.7814e-04 - mae: 0.0094 - val_loss: 1.7335e-04 - val_mse: 1.7335e-04 - val_mae: 0.0093\n",
      "Epoch 7/150\n",
      "181/181 [==============================] - 0s 2ms/step - loss: 1.5131e-04 - mse: 1.5131e-04 - mae: 0.0088 - val_loss: 1.4578e-04 - val_mse: 1.4578e-04 - val_mae: 0.0088\n",
      "Epoch 8/150\n",
      "181/181 [==============================] - 0s 2ms/step - loss: 1.3276e-04 - mse: 1.3276e-04 - mae: 0.0084 - val_loss: 1.2367e-04 - val_mse: 1.2367e-04 - val_mae: 0.0083\n",
      "Epoch 9/150\n",
      "181/181 [==============================] - 0s 2ms/step - loss: 1.2448e-04 - mse: 1.2448e-04 - mae: 0.0082 - val_loss: 1.1450e-04 - val_mse: 1.1450e-04 - val_mae: 0.0080\n",
      "Epoch 10/150\n",
      "181/181 [==============================] - 0s 2ms/step - loss: 1.2474e-04 - mse: 1.2474e-04 - mae: 0.0084 - val_loss: 1.3040e-04 - val_mse: 1.3040e-04 - val_mae: 0.0086\n",
      "Epoch 11/150\n",
      "181/181 [==============================] - 0s 1ms/step - loss: 1.2267e-04 - mse: 1.2267e-04 - mae: 0.0083 - val_loss: 1.2329e-04 - val_mse: 1.2329e-04 - val_mae: 0.0085\n",
      "Epoch 12/150\n",
      "181/181 [==============================] - 0s 1ms/step - loss: 1.2184e-04 - mse: 1.2184e-04 - mae: 0.0083 - val_loss: 1.1639e-04 - val_mse: 1.1639e-04 - val_mae: 0.0081\n",
      "Epoch 13/150\n",
      "181/181 [==============================] - 0s 2ms/step - loss: 1.2099e-04 - mse: 1.2099e-04 - mae: 0.0082 - val_loss: 1.0977e-04 - val_mse: 1.0977e-04 - val_mae: 0.0079\n",
      "Epoch 14/150\n",
      "181/181 [==============================] - 0s 2ms/step - loss: 1.1789e-04 - mse: 1.1789e-04 - mae: 0.0081 - val_loss: 1.1871e-04 - val_mse: 1.1871e-04 - val_mae: 0.0083\n",
      "Epoch 15/150\n",
      "181/181 [==============================] - 0s 2ms/step - loss: 1.1918e-04 - mse: 1.1918e-04 - mae: 0.0081 - val_loss: 1.2112e-04 - val_mse: 1.2112e-04 - val_mae: 0.0083\n",
      "Epoch 16/150\n",
      "181/181 [==============================] - 0s 2ms/step - loss: 1.1885e-04 - mse: 1.1885e-04 - mae: 0.0081 - val_loss: 1.1101e-04 - val_mse: 1.1101e-04 - val_mae: 0.0078\n",
      "Epoch 17/150\n",
      "181/181 [==============================] - 0s 1ms/step - loss: 1.2041e-04 - mse: 1.2041e-04 - mae: 0.0082 - val_loss: 1.0871e-04 - val_mse: 1.0871e-04 - val_mae: 0.0078\n",
      "Epoch 18/150\n",
      "181/181 [==============================] - 0s 1ms/step - loss: 1.1601e-04 - mse: 1.1601e-04 - mae: 0.0080 - val_loss: 1.1398e-04 - val_mse: 1.1398e-04 - val_mae: 0.0081\n",
      "Epoch 19/150\n",
      "181/181 [==============================] - 0s 2ms/step - loss: 1.2132e-04 - mse: 1.2132e-04 - mae: 0.0083 - val_loss: 1.0844e-04 - val_mse: 1.0844e-04 - val_mae: 0.0078\n",
      "Epoch 20/150\n",
      "181/181 [==============================] - 0s 1ms/step - loss: 1.1895e-04 - mse: 1.1895e-04 - mae: 0.0082 - val_loss: 1.3268e-04 - val_mse: 1.3268e-04 - val_mae: 0.0087\n",
      "Epoch 21/150\n",
      "181/181 [==============================] - 0s 1ms/step - loss: 1.2272e-04 - mse: 1.2272e-04 - mae: 0.0083 - val_loss: 1.1230e-04 - val_mse: 1.1230e-04 - val_mae: 0.0080\n",
      "Epoch 22/150\n",
      "181/181 [==============================] - 0s 1ms/step - loss: 1.1873e-04 - mse: 1.1873e-04 - mae: 0.0081 - val_loss: 1.2072e-04 - val_mse: 1.2072e-04 - val_mae: 0.0084\n",
      "Epoch 23/150\n",
      "181/181 [==============================] - 0s 1ms/step - loss: 1.1858e-04 - mse: 1.1858e-04 - mae: 0.0081 - val_loss: 1.3258e-04 - val_mse: 1.3258e-04 - val_mae: 0.0089\n",
      "Epoch 24/150\n",
      "181/181 [==============================] - 0s 1ms/step - loss: 1.1777e-04 - mse: 1.1777e-04 - mae: 0.0081 - val_loss: 1.1211e-04 - val_mse: 1.1211e-04 - val_mae: 0.0079\n",
      "Epoch 25/150\n",
      "181/181 [==============================] - 0s 1ms/step - loss: 1.1739e-04 - mse: 1.1739e-04 - mae: 0.0081 - val_loss: 1.0875e-04 - val_mse: 1.0875e-04 - val_mae: 0.0078\n",
      "Epoch 26/150\n",
      "181/181 [==============================] - 0s 1ms/step - loss: 1.1685e-04 - mse: 1.1685e-04 - mae: 0.0081 - val_loss: 1.1183e-04 - val_mse: 1.1183e-04 - val_mae: 0.0078\n",
      "Epoch 27/150\n",
      "181/181 [==============================] - 0s 1ms/step - loss: 1.1629e-04 - mse: 1.1629e-04 - mae: 0.0080 - val_loss: 1.0591e-04 - val_mse: 1.0591e-04 - val_mae: 0.0077\n",
      "Epoch 28/150\n",
      "181/181 [==============================] - 0s 1ms/step - loss: 1.2053e-04 - mse: 1.2053e-04 - mae: 0.0082 - val_loss: 1.0827e-04 - val_mse: 1.0827e-04 - val_mae: 0.0079\n",
      "Epoch 29/150\n",
      "181/181 [==============================] - 0s 1ms/step - loss: 1.1513e-04 - mse: 1.1513e-04 - mae: 0.0080 - val_loss: 1.0925e-04 - val_mse: 1.0925e-04 - val_mae: 0.0078\n",
      "Epoch 30/150\n",
      "181/181 [==============================] - 0s 1ms/step - loss: 1.2362e-04 - mse: 1.2362e-04 - mae: 0.0084 - val_loss: 1.0346e-04 - val_mse: 1.0346e-04 - val_mae: 0.0075\n",
      "Epoch 31/150\n",
      "181/181 [==============================] - 0s 1ms/step - loss: 1.1632e-04 - mse: 1.1632e-04 - mae: 0.0081 - val_loss: 1.0504e-04 - val_mse: 1.0504e-04 - val_mae: 0.0077\n",
      "Epoch 32/150\n",
      "181/181 [==============================] - 0s 1ms/step - loss: 1.1398e-04 - mse: 1.1398e-04 - mae: 0.0079 - val_loss: 1.0363e-04 - val_mse: 1.0363e-04 - val_mae: 0.0076\n",
      "Epoch 33/150\n",
      "181/181 [==============================] - 0s 1ms/step - loss: 1.1035e-04 - mse: 1.1035e-04 - mae: 0.0078 - val_loss: 1.0500e-04 - val_mse: 1.0500e-04 - val_mae: 0.0075\n",
      "Epoch 34/150\n",
      "181/181 [==============================] - 0s 1ms/step - loss: 1.1940e-04 - mse: 1.1940e-04 - mae: 0.0082 - val_loss: 1.2831e-04 - val_mse: 1.2831e-04 - val_mae: 0.0088\n",
      "Epoch 35/150\n",
      "181/181 [==============================] - 0s 1ms/step - loss: 1.1663e-04 - mse: 1.1663e-04 - mae: 0.0081 - val_loss: 1.0287e-04 - val_mse: 1.0287e-04 - val_mae: 0.0075\n",
      "Epoch 36/150\n",
      "181/181 [==============================] - 0s 1ms/step - loss: 1.1810e-04 - mse: 1.1810e-04 - mae: 0.0081 - val_loss: 1.0602e-04 - val_mse: 1.0602e-04 - val_mae: 0.0077\n",
      "Epoch 37/150\n",
      "181/181 [==============================] - 0s 1ms/step - loss: 1.1536e-04 - mse: 1.1536e-04 - mae: 0.0081 - val_loss: 1.0289e-04 - val_mse: 1.0289e-04 - val_mae: 0.0076\n",
      "Epoch 38/150\n",
      "181/181 [==============================] - 0s 1ms/step - loss: 1.1228e-04 - mse: 1.1228e-04 - mae: 0.0079 - val_loss: 1.1300e-04 - val_mse: 1.1300e-04 - val_mae: 0.0079\n",
      "Epoch 39/150\n",
      "181/181 [==============================] - 0s 1ms/step - loss: 1.1297e-04 - mse: 1.1297e-04 - mae: 0.0079 - val_loss: 1.1034e-04 - val_mse: 1.1034e-04 - val_mae: 0.0078\n",
      "Epoch 40/150\n",
      "181/181 [==============================] - 0s 1ms/step - loss: 1.1660e-04 - mse: 1.1660e-04 - mae: 0.0080 - val_loss: 1.0478e-04 - val_mse: 1.0478e-04 - val_mae: 0.0076\n",
      "Epoch 41/150\n",
      "181/181 [==============================] - 0s 1ms/step - loss: 1.1638e-04 - mse: 1.1638e-04 - mae: 0.0080 - val_loss: 1.0147e-04 - val_mse: 1.0147e-04 - val_mae: 0.0074\n",
      "Epoch 42/150\n",
      "181/181 [==============================] - 0s 1ms/step - loss: 1.1507e-04 - mse: 1.1507e-04 - mae: 0.0080 - val_loss: 1.1075e-04 - val_mse: 1.1075e-04 - val_mae: 0.0078\n",
      "Epoch 43/150\n",
      "181/181 [==============================] - 0s 1ms/step - loss: 1.1529e-04 - mse: 1.1529e-04 - mae: 0.0080 - val_loss: 1.4444e-04 - val_mse: 1.4444e-04 - val_mae: 0.0090\n",
      "Epoch 44/150\n",
      "181/181 [==============================] - 0s 1ms/step - loss: 1.1194e-04 - mse: 1.1194e-04 - mae: 0.0079 - val_loss: 1.0082e-04 - val_mse: 1.0082e-04 - val_mae: 0.0075\n",
      "Epoch 45/150\n",
      "181/181 [==============================] - 0s 1ms/step - loss: 1.2022e-04 - mse: 1.2022e-04 - mae: 0.0082 - val_loss: 1.2489e-04 - val_mse: 1.2489e-04 - val_mae: 0.0087\n",
      "Epoch 46/150\n",
      "181/181 [==============================] - 0s 1ms/step - loss: 1.1560e-04 - mse: 1.1560e-04 - mae: 0.0080 - val_loss: 1.3779e-04 - val_mse: 1.3779e-04 - val_mae: 0.0088\n",
      "Epoch 47/150\n",
      "181/181 [==============================] - 0s 1ms/step - loss: 1.2289e-04 - mse: 1.2289e-04 - mae: 0.0083 - val_loss: 1.1779e-04 - val_mse: 1.1779e-04 - val_mae: 0.0084\n",
      "Epoch 48/150\n",
      "181/181 [==============================] - 0s 1ms/step - loss: 1.1052e-04 - mse: 1.1052e-04 - mae: 0.0078 - val_loss: 1.1179e-04 - val_mse: 1.1179e-04 - val_mae: 0.0078\n",
      "Epoch 49/150\n",
      "181/181 [==============================] - 0s 1ms/step - loss: 1.1338e-04 - mse: 1.1338e-04 - mae: 0.0079 - val_loss: 1.0194e-04 - val_mse: 1.0194e-04 - val_mae: 0.0075\n",
      "Epoch 50/150\n",
      "181/181 [==============================] - 0s 1ms/step - loss: 1.1241e-04 - mse: 1.1241e-04 - mae: 0.0079 - val_loss: 1.0409e-04 - val_mse: 1.0409e-04 - val_mae: 0.0075\n",
      "Epoch 51/150\n",
      "181/181 [==============================] - 0s 1ms/step - loss: 1.1196e-04 - mse: 1.1196e-04 - mae: 0.0079 - val_loss: 9.9572e-05 - val_mse: 9.9572e-05 - val_mae: 0.0073\n",
      "Epoch 52/150\n",
      "181/181 [==============================] - 0s 1ms/step - loss: 1.1480e-04 - mse: 1.1480e-04 - mae: 0.0080 - val_loss: 1.0212e-04 - val_mse: 1.0212e-04 - val_mae: 0.0076\n",
      "Epoch 53/150\n",
      "181/181 [==============================] - 0s 1ms/step - loss: 1.1774e-04 - mse: 1.1774e-04 - mae: 0.0081 - val_loss: 9.9285e-05 - val_mse: 9.9285e-05 - val_mae: 0.0074\n",
      "Epoch 54/150\n",
      "181/181 [==============================] - 0s 1ms/step - loss: 1.0544e-04 - mse: 1.0544e-04 - mae: 0.0076 - val_loss: 1.0016e-04 - val_mse: 1.0016e-04 - val_mae: 0.0073\n",
      "Epoch 55/150\n",
      "181/181 [==============================] - 0s 1ms/step - loss: 1.1464e-04 - mse: 1.1464e-04 - mae: 0.0079 - val_loss: 9.8873e-05 - val_mse: 9.8873e-05 - val_mae: 0.0073\n",
      "Epoch 56/150\n",
      "181/181 [==============================] - 0s 1ms/step - loss: 1.1190e-04 - mse: 1.1190e-04 - mae: 0.0079 - val_loss: 1.0357e-04 - val_mse: 1.0357e-04 - val_mae: 0.0077\n",
      "Epoch 57/150\n",
      "181/181 [==============================] - 0s 1ms/step - loss: 1.1581e-04 - mse: 1.1581e-04 - mae: 0.0080 - val_loss: 9.9508e-05 - val_mse: 9.9508e-05 - val_mae: 0.0073\n",
      "Epoch 58/150\n",
      "181/181 [==============================] - 0s 1ms/step - loss: 1.1066e-04 - mse: 1.1066e-04 - mae: 0.0078 - val_loss: 1.1482e-04 - val_mse: 1.1482e-04 - val_mae: 0.0084\n",
      "Epoch 59/150\n",
      "181/181 [==============================] - 0s 1ms/step - loss: 1.1435e-04 - mse: 1.1435e-04 - mae: 0.0080 - val_loss: 1.1039e-04 - val_mse: 1.1039e-04 - val_mae: 0.0081\n",
      "Epoch 60/150\n",
      "181/181 [==============================] - 0s 1ms/step - loss: 1.0849e-04 - mse: 1.0849e-04 - mae: 0.0077 - val_loss: 1.0286e-04 - val_mse: 1.0286e-04 - val_mae: 0.0076\n",
      "Epoch 61/150\n",
      "181/181 [==============================] - 0s 1ms/step - loss: 1.1321e-04 - mse: 1.1321e-04 - mae: 0.0079 - val_loss: 1.0085e-04 - val_mse: 1.0085e-04 - val_mae: 0.0074\n",
      "Epoch 62/150\n",
      "181/181 [==============================] - 0s 1ms/step - loss: 1.1438e-04 - mse: 1.1438e-04 - mae: 0.0080 - val_loss: 9.7757e-05 - val_mse: 9.7757e-05 - val_mae: 0.0072\n",
      "Epoch 63/150\n",
      "181/181 [==============================] - 0s 2ms/step - loss: 1.1077e-04 - mse: 1.1077e-04 - mae: 0.0078 - val_loss: 1.0376e-04 - val_mse: 1.0376e-04 - val_mae: 0.0076\n",
      "Epoch 64/150\n",
      "181/181 [==============================] - 0s 2ms/step - loss: 1.1328e-04 - mse: 1.1328e-04 - mae: 0.0079 - val_loss: 1.1314e-04 - val_mse: 1.1314e-04 - val_mae: 0.0080\n",
      "Epoch 65/150\n",
      "181/181 [==============================] - 0s 2ms/step - loss: 1.0802e-04 - mse: 1.0802e-04 - mae: 0.0077 - val_loss: 1.0636e-04 - val_mse: 1.0636e-04 - val_mae: 0.0078\n",
      "Epoch 66/150\n",
      "181/181 [==============================] - 0s 2ms/step - loss: 1.1120e-04 - mse: 1.1120e-04 - mae: 0.0079 - val_loss: 1.0075e-04 - val_mse: 1.0075e-04 - val_mae: 0.0073\n",
      "Epoch 67/150\n",
      "181/181 [==============================] - 0s 2ms/step - loss: 1.0650e-04 - mse: 1.0650e-04 - mae: 0.0076 - val_loss: 9.7969e-05 - val_mse: 9.7969e-05 - val_mae: 0.0073\n",
      "Epoch 68/150\n",
      "181/181 [==============================] - 0s 1ms/step - loss: 1.0490e-04 - mse: 1.0490e-04 - mae: 0.0075 - val_loss: 1.0820e-04 - val_mse: 1.0820e-04 - val_mae: 0.0077\n",
      "Epoch 69/150\n",
      "181/181 [==============================] - 0s 2ms/step - loss: 1.0529e-04 - mse: 1.0529e-04 - mae: 0.0075 - val_loss: 9.8985e-05 - val_mse: 9.8985e-05 - val_mae: 0.0074\n",
      "Epoch 70/150\n",
      "181/181 [==============================] - 0s 2ms/step - loss: 1.0911e-04 - mse: 1.0911e-04 - mae: 0.0077 - val_loss: 9.7138e-05 - val_mse: 9.7138e-05 - val_mae: 0.0072\n",
      "Epoch 71/150\n",
      "181/181 [==============================] - 0s 1ms/step - loss: 1.0609e-04 - mse: 1.0609e-04 - mae: 0.0075 - val_loss: 1.3824e-04 - val_mse: 1.3824e-04 - val_mae: 0.0089\n",
      "Epoch 72/150\n",
      "181/181 [==============================] - 0s 1ms/step - loss: 1.1257e-04 - mse: 1.1257e-04 - mae: 0.0079 - val_loss: 1.0054e-04 - val_mse: 1.0054e-04 - val_mae: 0.0074\n",
      "Epoch 73/150\n",
      "181/181 [==============================] - 0s 1ms/step - loss: 1.0707e-04 - mse: 1.0707e-04 - mae: 0.0077 - val_loss: 1.1908e-04 - val_mse: 1.1908e-04 - val_mae: 0.0081\n",
      "Epoch 74/150\n",
      "181/181 [==============================] - 0s 1ms/step - loss: 1.0568e-04 - mse: 1.0568e-04 - mae: 0.0076 - val_loss: 1.1085e-04 - val_mse: 1.1085e-04 - val_mae: 0.0076\n",
      "Epoch 75/150\n",
      "181/181 [==============================] - 0s 2ms/step - loss: 1.0823e-04 - mse: 1.0823e-04 - mae: 0.0077 - val_loss: 9.7278e-05 - val_mse: 9.7278e-05 - val_mae: 0.0071\n",
      "Epoch 76/150\n",
      "181/181 [==============================] - 0s 2ms/step - loss: 1.0935e-04 - mse: 1.0935e-04 - mae: 0.0078 - val_loss: 9.7452e-05 - val_mse: 9.7452e-05 - val_mae: 0.0073\n",
      "Epoch 77/150\n",
      "181/181 [==============================] - 0s 2ms/step - loss: 1.0663e-04 - mse: 1.0663e-04 - mae: 0.0076 - val_loss: 9.6535e-05 - val_mse: 9.6535e-05 - val_mae: 0.0073\n",
      "Epoch 78/150\n",
      "181/181 [==============================] - 0s 1ms/step - loss: 1.0737e-04 - mse: 1.0737e-04 - mae: 0.0076 - val_loss: 9.9515e-05 - val_mse: 9.9515e-05 - val_mae: 0.0073\n",
      "Epoch 79/150\n",
      "181/181 [==============================] - 0s 1ms/step - loss: 1.0723e-04 - mse: 1.0723e-04 - mae: 0.0077 - val_loss: 1.4069e-04 - val_mse: 1.4069e-04 - val_mae: 0.0090\n",
      "Epoch 80/150\n",
      "181/181 [==============================] - 0s 1ms/step - loss: 1.0539e-04 - mse: 1.0539e-04 - mae: 0.0075 - val_loss: 1.0936e-04 - val_mse: 1.0936e-04 - val_mae: 0.0077\n",
      "Epoch 81/150\n",
      "181/181 [==============================] - 0s 1ms/step - loss: 1.0677e-04 - mse: 1.0677e-04 - mae: 0.0076 - val_loss: 1.0335e-04 - val_mse: 1.0335e-04 - val_mae: 0.0077\n",
      "Epoch 82/150\n",
      "181/181 [==============================] - 0s 2ms/step - loss: 1.0761e-04 - mse: 1.0761e-04 - mae: 0.0077 - val_loss: 9.7937e-05 - val_mse: 9.7937e-05 - val_mae: 0.0073\n",
      "Epoch 83/150\n",
      "181/181 [==============================] - 0s 1ms/step - loss: 1.0313e-04 - mse: 1.0313e-04 - mae: 0.0075 - val_loss: 1.0246e-04 - val_mse: 1.0246e-04 - val_mae: 0.0075\n",
      "Epoch 84/150\n",
      "181/181 [==============================] - 0s 1ms/step - loss: 1.1479e-04 - mse: 1.1479e-04 - mae: 0.0080 - val_loss: 9.5908e-05 - val_mse: 9.5908e-05 - val_mae: 0.0071\n",
      "Epoch 85/150\n",
      "181/181 [==============================] - 0s 1ms/step - loss: 1.0761e-04 - mse: 1.0761e-04 - mae: 0.0076 - val_loss: 1.0213e-04 - val_mse: 1.0213e-04 - val_mae: 0.0076\n",
      "Epoch 86/150\n",
      "181/181 [==============================] - 0s 1ms/step - loss: 1.0274e-04 - mse: 1.0274e-04 - mae: 0.0074 - val_loss: 9.5107e-05 - val_mse: 9.5107e-05 - val_mae: 0.0071\n",
      "Epoch 87/150\n",
      "181/181 [==============================] - 0s 1ms/step - loss: 1.0520e-04 - mse: 1.0520e-04 - mae: 0.0075 - val_loss: 1.0569e-04 - val_mse: 1.0569e-04 - val_mae: 0.0078\n",
      "Epoch 88/150\n",
      "181/181 [==============================] - 0s 1ms/step - loss: 1.0411e-04 - mse: 1.0411e-04 - mae: 0.0075 - val_loss: 1.0069e-04 - val_mse: 1.0069e-04 - val_mae: 0.0074\n",
      "Epoch 89/150\n",
      "181/181 [==============================] - 0s 1ms/step - loss: 1.0571e-04 - mse: 1.0571e-04 - mae: 0.0076 - val_loss: 1.0553e-04 - val_mse: 1.0553e-04 - val_mae: 0.0076\n",
      "Epoch 90/150\n",
      "181/181 [==============================] - 0s 1ms/step - loss: 1.0744e-04 - mse: 1.0744e-04 - mae: 0.0076 - val_loss: 1.1923e-04 - val_mse: 1.1923e-04 - val_mae: 0.0081\n",
      "Epoch 91/150\n",
      "181/181 [==============================] - 0s 1ms/step - loss: 1.0741e-04 - mse: 1.0741e-04 - mae: 0.0076 - val_loss: 1.3210e-04 - val_mse: 1.3210e-04 - val_mae: 0.0086\n",
      "Epoch 92/150\n",
      "181/181 [==============================] - 0s 1ms/step - loss: 1.0105e-04 - mse: 1.0105e-04 - mae: 0.0073 - val_loss: 1.0172e-04 - val_mse: 1.0172e-04 - val_mae: 0.0075\n",
      "Epoch 93/150\n",
      "181/181 [==============================] - 0s 2ms/step - loss: 1.0744e-04 - mse: 1.0744e-04 - mae: 0.0077 - val_loss: 9.4067e-05 - val_mse: 9.4067e-05 - val_mae: 0.0071\n",
      "Epoch 94/150\n",
      "181/181 [==============================] - 0s 2ms/step - loss: 1.0088e-04 - mse: 1.0088e-04 - mae: 0.0073 - val_loss: 9.6180e-05 - val_mse: 9.6180e-05 - val_mae: 0.0073\n",
      "Epoch 95/150\n",
      "181/181 [==============================] - 0s 2ms/step - loss: 1.0342e-04 - mse: 1.0342e-04 - mae: 0.0075 - val_loss: 9.5061e-05 - val_mse: 9.5061e-05 - val_mae: 0.0071\n",
      "Epoch 96/150\n",
      "181/181 [==============================] - 0s 2ms/step - loss: 1.0690e-04 - mse: 1.0690e-04 - mae: 0.0076 - val_loss: 1.2388e-04 - val_mse: 1.2388e-04 - val_mae: 0.0087\n",
      "Epoch 97/150\n",
      "181/181 [==============================] - 0s 2ms/step - loss: 1.0393e-04 - mse: 1.0393e-04 - mae: 0.0075 - val_loss: 9.4790e-05 - val_mse: 9.4790e-05 - val_mae: 0.0071\n",
      "Epoch 98/150\n",
      "181/181 [==============================] - 0s 2ms/step - loss: 1.1529e-04 - mse: 1.1529e-04 - mae: 0.0080 - val_loss: 1.3829e-04 - val_mse: 1.3829e-04 - val_mae: 0.0093\n",
      "Epoch 99/150\n",
      "181/181 [==============================] - 0s 1ms/step - loss: 1.0688e-04 - mse: 1.0688e-04 - mae: 0.0076 - val_loss: 1.0227e-04 - val_mse: 1.0227e-04 - val_mae: 0.0074\n",
      "Epoch 100/150\n",
      "181/181 [==============================] - 0s 2ms/step - loss: 1.1443e-04 - mse: 1.1443e-04 - mae: 0.0080 - val_loss: 9.5005e-05 - val_mse: 9.5005e-05 - val_mae: 0.0072\n",
      "Epoch 101/150\n",
      "181/181 [==============================] - 0s 2ms/step - loss: 1.1053e-04 - mse: 1.1053e-04 - mae: 0.0078 - val_loss: 9.9648e-05 - val_mse: 9.9648e-05 - val_mae: 0.0072\n",
      "Epoch 102/150\n",
      "181/181 [==============================] - 0s 2ms/step - loss: 9.9725e-05 - mse: 9.9725e-05 - mae: 0.0073 - val_loss: 1.0835e-04 - val_mse: 1.0835e-04 - val_mae: 0.0076\n",
      "Epoch 103/150\n",
      "181/181 [==============================] - 0s 2ms/step - loss: 1.0218e-04 - mse: 1.0218e-04 - mae: 0.0074 - val_loss: 9.4174e-05 - val_mse: 9.4174e-05 - val_mae: 0.0070\n",
      "Epoch 104/150\n",
      "181/181 [==============================] - 0s 2ms/step - loss: 1.0463e-04 - mse: 1.0463e-04 - mae: 0.0075 - val_loss: 1.1499e-04 - val_mse: 1.1499e-04 - val_mae: 0.0079\n",
      "Epoch 105/150\n",
      "181/181 [==============================] - 0s 2ms/step - loss: 1.0003e-04 - mse: 1.0003e-04 - mae: 0.0073 - val_loss: 9.8724e-05 - val_mse: 9.8724e-05 - val_mae: 0.0075\n",
      "Epoch 106/150\n",
      "181/181 [==============================] - 0s 2ms/step - loss: 1.0455e-04 - mse: 1.0455e-04 - mae: 0.0075 - val_loss: 9.9665e-05 - val_mse: 9.9665e-05 - val_mae: 0.0074\n",
      "Epoch 107/150\n",
      "181/181 [==============================] - 0s 2ms/step - loss: 1.0402e-04 - mse: 1.0402e-04 - mae: 0.0075 - val_loss: 9.8008e-05 - val_mse: 9.8008e-05 - val_mae: 0.0072\n",
      "Epoch 108/150\n",
      "181/181 [==============================] - 0s 2ms/step - loss: 1.0193e-04 - mse: 1.0193e-04 - mae: 0.0074 - val_loss: 9.6601e-05 - val_mse: 9.6601e-05 - val_mae: 0.0071\n",
      "Epoch 109/150\n",
      "181/181 [==============================] - 0s 2ms/step - loss: 1.0508e-04 - mse: 1.0508e-04 - mae: 0.0075 - val_loss: 1.1862e-04 - val_mse: 1.1862e-04 - val_mae: 0.0081\n",
      "Epoch 110/150\n",
      "181/181 [==============================] - 0s 2ms/step - loss: 1.0172e-04 - mse: 1.0172e-04 - mae: 0.0074 - val_loss: 9.6584e-05 - val_mse: 9.6584e-05 - val_mae: 0.0072\n",
      "Epoch 111/150\n",
      "181/181 [==============================] - 0s 1ms/step - loss: 1.0580e-04 - mse: 1.0580e-04 - mae: 0.0076 - val_loss: 9.5962e-05 - val_mse: 9.5962e-05 - val_mae: 0.0072\n",
      "Epoch 112/150\n",
      "181/181 [==============================] - 0s 1ms/step - loss: 1.0673e-04 - mse: 1.0673e-04 - mae: 0.0076 - val_loss: 9.5255e-05 - val_mse: 9.5255e-05 - val_mae: 0.0070\n",
      "Epoch 113/150\n",
      "181/181 [==============================] - 0s 1ms/step - loss: 1.0445e-04 - mse: 1.0445e-04 - mae: 0.0074 - val_loss: 9.8514e-05 - val_mse: 9.8514e-05 - val_mae: 0.0073\n",
      "Epoch 114/150\n",
      "181/181 [==============================] - 0s 1ms/step - loss: 1.0999e-04 - mse: 1.0999e-04 - mae: 0.0078 - val_loss: 1.2520e-04 - val_mse: 1.2520e-04 - val_mae: 0.0084\n",
      "Epoch 115/150\n",
      "181/181 [==============================] - 0s 1ms/step - loss: 1.0248e-04 - mse: 1.0248e-04 - mae: 0.0074 - val_loss: 1.0037e-04 - val_mse: 1.0037e-04 - val_mae: 0.0072\n",
      "Epoch 116/150\n",
      "181/181 [==============================] - 0s 1ms/step - loss: 1.0047e-04 - mse: 1.0047e-04 - mae: 0.0073 - val_loss: 9.3798e-05 - val_mse: 9.3798e-05 - val_mae: 0.0071\n",
      "Epoch 117/150\n",
      "181/181 [==============================] - 0s 1ms/step - loss: 1.0433e-04 - mse: 1.0433e-04 - mae: 0.0075 - val_loss: 9.6205e-05 - val_mse: 9.6205e-05 - val_mae: 0.0072\n",
      "Epoch 118/150\n",
      "181/181 [==============================] - 0s 1ms/step - loss: 1.0196e-04 - mse: 1.0196e-04 - mae: 0.0074 - val_loss: 9.4785e-05 - val_mse: 9.4785e-05 - val_mae: 0.0071\n",
      "Epoch 119/150\n",
      "181/181 [==============================] - 0s 1ms/step - loss: 1.0267e-04 - mse: 1.0267e-04 - mae: 0.0074 - val_loss: 1.0549e-04 - val_mse: 1.0549e-04 - val_mae: 0.0074\n",
      "Epoch 120/150\n",
      "181/181 [==============================] - 0s 1ms/step - loss: 1.0177e-04 - mse: 1.0177e-04 - mae: 0.0073 - val_loss: 9.5295e-05 - val_mse: 9.5295e-05 - val_mae: 0.0071\n",
      "Epoch 121/150\n",
      "181/181 [==============================] - 0s 1ms/step - loss: 1.0395e-04 - mse: 1.0395e-04 - mae: 0.0075 - val_loss: 9.3606e-05 - val_mse: 9.3606e-05 - val_mae: 0.0071\n",
      "Epoch 122/150\n",
      "181/181 [==============================] - 0s 1ms/step - loss: 1.0046e-04 - mse: 1.0046e-04 - mae: 0.0073 - val_loss: 1.0123e-04 - val_mse: 1.0123e-04 - val_mae: 0.0076\n",
      "Epoch 123/150\n",
      "181/181 [==============================] - 0s 1ms/step - loss: 1.0273e-04 - mse: 1.0273e-04 - mae: 0.0074 - val_loss: 1.0062e-04 - val_mse: 1.0062e-04 - val_mae: 0.0074\n",
      "Epoch 124/150\n",
      "181/181 [==============================] - 0s 1ms/step - loss: 1.0419e-04 - mse: 1.0419e-04 - mae: 0.0075 - val_loss: 1.0458e-04 - val_mse: 1.0458e-04 - val_mae: 0.0077\n",
      "Epoch 125/150\n",
      "181/181 [==============================] - 0s 1ms/step - loss: 1.0318e-04 - mse: 1.0318e-04 - mae: 0.0074 - val_loss: 1.0356e-04 - val_mse: 1.0356e-04 - val_mae: 0.0076\n",
      "Epoch 126/150\n",
      "181/181 [==============================] - 0s 1ms/step - loss: 1.0062e-04 - mse: 1.0062e-04 - mae: 0.0073 - val_loss: 9.8937e-05 - val_mse: 9.8937e-05 - val_mae: 0.0072\n",
      "Epoch 127/150\n",
      "181/181 [==============================] - 0s 1ms/step - loss: 1.0396e-04 - mse: 1.0396e-04 - mae: 0.0075 - val_loss: 1.0888e-04 - val_mse: 1.0888e-04 - val_mae: 0.0077\n",
      "Epoch 128/150\n",
      "181/181 [==============================] - 0s 1ms/step - loss: 1.0426e-04 - mse: 1.0426e-04 - mae: 0.0075 - val_loss: 9.8310e-05 - val_mse: 9.8310e-05 - val_mae: 0.0073\n",
      "Epoch 129/150\n",
      "181/181 [==============================] - 0s 1ms/step - loss: 9.9060e-05 - mse: 9.9060e-05 - mae: 0.0073 - val_loss: 9.6204e-05 - val_mse: 9.6204e-05 - val_mae: 0.0070\n",
      "Epoch 130/150\n",
      "181/181 [==============================] - 0s 1ms/step - loss: 1.0513e-04 - mse: 1.0513e-04 - mae: 0.0075 - val_loss: 1.3198e-04 - val_mse: 1.3198e-04 - val_mae: 0.0086\n",
      "Epoch 131/150\n",
      "181/181 [==============================] - 0s 1ms/step - loss: 1.0111e-04 - mse: 1.0111e-04 - mae: 0.0073 - val_loss: 9.7460e-05 - val_mse: 9.7460e-05 - val_mae: 0.0073\n",
      "Epoch 132/150\n",
      "181/181 [==============================] - 0s 1ms/step - loss: 1.0345e-04 - mse: 1.0345e-04 - mae: 0.0074 - val_loss: 1.0509e-04 - val_mse: 1.0509e-04 - val_mae: 0.0075\n",
      "Epoch 133/150\n",
      "181/181 [==============================] - 0s 1ms/step - loss: 1.0603e-04 - mse: 1.0603e-04 - mae: 0.0076 - val_loss: 1.0380e-04 - val_mse: 1.0380e-04 - val_mae: 0.0077\n",
      "Epoch 134/150\n",
      "181/181 [==============================] - 0s 1ms/step - loss: 1.0084e-04 - mse: 1.0084e-04 - mae: 0.0073 - val_loss: 9.7046e-05 - val_mse: 9.7046e-05 - val_mae: 0.0071\n",
      "Epoch 135/150\n",
      "181/181 [==============================] - 0s 1ms/step - loss: 1.0621e-04 - mse: 1.0621e-04 - mae: 0.0076 - val_loss: 9.7985e-05 - val_mse: 9.7985e-05 - val_mae: 0.0073\n",
      "Epoch 136/150\n",
      "181/181 [==============================] - 0s 1ms/step - loss: 9.9570e-05 - mse: 9.9570e-05 - mae: 0.0072 - val_loss: 9.7651e-05 - val_mse: 9.7651e-05 - val_mae: 0.0075\n",
      "Epoch 137/150\n",
      "181/181 [==============================] - 0s 1ms/step - loss: 1.0185e-04 - mse: 1.0185e-04 - mae: 0.0074 - val_loss: 9.3272e-05 - val_mse: 9.3272e-05 - val_mae: 0.0070\n",
      "Epoch 138/150\n",
      "181/181 [==============================] - 0s 1ms/step - loss: 1.0905e-04 - mse: 1.0905e-04 - mae: 0.0077 - val_loss: 9.5769e-05 - val_mse: 9.5769e-05 - val_mae: 0.0072\n",
      "Epoch 139/150\n",
      "181/181 [==============================] - 0s 1ms/step - loss: 9.7922e-05 - mse: 9.7922e-05 - mae: 0.0072 - val_loss: 1.0343e-04 - val_mse: 1.0343e-04 - val_mae: 0.0076\n",
      "Epoch 140/150\n",
      "181/181 [==============================] - 0s 1ms/step - loss: 1.0179e-04 - mse: 1.0179e-04 - mae: 0.0074 - val_loss: 9.2646e-05 - val_mse: 9.2646e-05 - val_mae: 0.0070\n",
      "Epoch 141/150\n",
      "181/181 [==============================] - 0s 1ms/step - loss: 1.0146e-04 - mse: 1.0146e-04 - mae: 0.0073 - val_loss: 9.2923e-05 - val_mse: 9.2923e-05 - val_mae: 0.0070\n",
      "Epoch 142/150\n",
      "181/181 [==============================] - 0s 1ms/step - loss: 1.0309e-04 - mse: 1.0309e-04 - mae: 0.0074 - val_loss: 9.3230e-05 - val_mse: 9.3230e-05 - val_mae: 0.0070\n",
      "Epoch 143/150\n",
      "181/181 [==============================] - 0s 1ms/step - loss: 9.8342e-05 - mse: 9.8342e-05 - mae: 0.0072 - val_loss: 9.2476e-05 - val_mse: 9.2476e-05 - val_mae: 0.0070\n",
      "Epoch 144/150\n",
      "181/181 [==============================] - 0s 1ms/step - loss: 1.0020e-04 - mse: 1.0020e-04 - mae: 0.0073 - val_loss: 1.0793e-04 - val_mse: 1.0793e-04 - val_mae: 0.0076\n",
      "Epoch 145/150\n",
      "181/181 [==============================] - 0s 1ms/step - loss: 1.0354e-04 - mse: 1.0354e-04 - mae: 0.0074 - val_loss: 1.1843e-04 - val_mse: 1.1843e-04 - val_mae: 0.0081\n",
      "Epoch 146/150\n",
      "181/181 [==============================] - 0s 1ms/step - loss: 1.0435e-04 - mse: 1.0435e-04 - mae: 0.0075 - val_loss: 1.1140e-04 - val_mse: 1.1140e-04 - val_mae: 0.0077\n",
      "Epoch 147/150\n",
      "181/181 [==============================] - 0s 1ms/step - loss: 1.0757e-04 - mse: 1.0757e-04 - mae: 0.0076 - val_loss: 9.2488e-05 - val_mse: 9.2488e-05 - val_mae: 0.0069\n",
      "Epoch 148/150\n",
      "181/181 [==============================] - 0s 1ms/step - loss: 9.9255e-05 - mse: 9.9255e-05 - mae: 0.0072 - val_loss: 9.8069e-05 - val_mse: 9.8069e-05 - val_mae: 0.0074\n",
      "Epoch 149/150\n",
      "181/181 [==============================] - 0s 1ms/step - loss: 1.0241e-04 - mse: 1.0241e-04 - mae: 0.0074 - val_loss: 9.4804e-05 - val_mse: 9.4804e-05 - val_mae: 0.0071\n",
      "Epoch 150/150\n",
      "181/181 [==============================] - 0s 1ms/step - loss: 9.8802e-05 - mse: 9.8802e-05 - mae: 0.0073 - val_loss: 1.2626e-04 - val_mse: 1.2626e-04 - val_mae: 0.0083\n"
     ]
    }
   ],
   "source": [
    "history = model.fit(X_train, y_train, epochs=150, batch_size=50,  verbose=1, validation_split=0.2)"
   ]
  },
  {
   "cell_type": "code",
   "execution_count": 60,
   "metadata": {},
   "outputs": [
    {
     "name": "stdout",
     "output_type": "stream",
     "text": [
      "dict_keys(['loss', 'mse', 'mae', 'val_loss', 'val_mse', 'val_mae'])\n"
     ]
    },
    {
     "data": {
      "image/png": "[encoded data removed]",
      "text/plain": [
       "<Figure size 432x288 with 1 Axes>"
      ]
     },
     "metadata": {
      "needs_background": "light"
     },
     "output_type": "display_data"
    }
   ],
   "source": [
    "import matplotlib.pyplot as plt\n",
    "print(history.history.keys())\n",
    "# \"Loss\"\n",
    "plt.plot(history.history['loss'])\n",
    "plt.plot(history.history['val_loss'])\n",
    "plt.title('model loss')\n",
    "plt.ylabel('loss')\n",
    "plt.xlabel('epoch')\n",
    "plt.legend(['train', 'validation'], loc='upper left')\n",
    "plt.show()"
   ]
  },
  {
   "cell_type": "code",
   "execution_count": 61,
   "metadata": {},
   "outputs": [
    {
     "name": "stdout",
     "output_type": "stream",
     "text": [
      "118/118 [==============================] - 0s 933us/step - loss: 1.3359e-04 - mse: 1.3359e-04 - mae: 0.0084\n"
     ]
    },
    {
     "data": {
      "text/plain": [
       "[0.00013359339209273458, 0.00013359339209273458, 0.00844163354486227]"
      ]
     },
     "execution_count": 61,
     "metadata": {},
     "output_type": "execute_result"
    }
   ],
   "source": [
    "model.evaluate(X_test,y_test)"
   ]
  },
  {
   "cell_type": "code",
   "execution_count": 62,
   "metadata": {},
   "outputs": [
    {
     "name": "stdout",
     "output_type": "stream",
     "text": [
      "118/118 [==============================] - 0s 823us/step\n"
     ]
    },
    {
     "data": {
      "text/plain": [
       "array([[0.46040145],\n",
       "       [0.45563033],\n",
       "       [0.14079446],\n",
       "       ...,\n",
       "       [0.82582873],\n",
       "       [0.16990861],\n",
       "       [0.8499154 ]], dtype=float32)"
      ]
     },
     "execution_count": 62,
     "metadata": {},
     "output_type": "execute_result"
    }
   ],
   "source": [
    "model.predict(X_test)"
   ]
  },
  {
   "cell_type": "code",
   "execution_count": 63,
   "metadata": {},
   "outputs": [
    {
     "data": {
      "text/plain": [
       "array([[0.45069855],\n",
       "       [0.46359484],\n",
       "       [0.14199355],\n",
       "       ...,\n",
       "       [0.80924234],\n",
       "       [0.16120365],\n",
       "       [0.84403546]])"
      ]
     },
     "execution_count": 63,
     "metadata": {},
     "output_type": "execute_result"
    }
   ],
   "source": [
    "y_test"
   ]
  },
  {
   "cell_type": "code",
   "execution_count": 68,
   "metadata": {},
   "outputs": [],
   "source": [
    "def create_model(optimizer=\"adam\"):\n",
    "    # create model\n",
    "    model = Sequential()\n",
    "    model.add(Dense(12, input_dim=10, kernel_initializer='normal', activation='relu'))\n",
    "    model.add(Dense(8, activation='relu'))\n",
    "    model.add(Dense(1, activation='linear'))\n",
    "    model.compile(loss='mse',metrics=['mse','mae'])\n",
    "    return model"
   ]
  },
  {
   "cell_type": "code",
   "execution_count": 69,
   "metadata": {},
   "outputs": [],
   "source": [
    "model = KerasRegressor(build_fn=create_model, epochs=100, batch_size=10, verbose=0)\n",
    "optimizer = ['SGD', 'RMSprop', 'Adagrad']\n",
    "param_grid = dict(optimizer=optimizer)\n",
    "grid = GridSearchCV(estimator=model, param_grid=param_grid, n_jobs=1)\n",
    "grid_result = grid.fit(X_train, y_train)"
   ]
  },
  {
   "cell_type": "code",
   "execution_count": 70,
   "metadata": {},
   "outputs": [
    {
     "data": {
      "text/plain": [
       "{'mean_fit_time': array([70.48530345, 64.20399709, 64.54676604]),\n",
       " 'std_fit_time': array([0.96143595, 0.49262867, 1.56721565]),\n",
       " 'mean_score_time': array([0.27004385, 0.24041238, 0.23948674]),\n",
       " 'std_score_time': array([0.02498537, 0.00620384, 0.00491757]),\n",
       " 'param_optimizer': masked_array(data=['SGD', 'RMSprop', 'Adagrad'],\n",
       "              mask=[False, False, False],\n",
       "        fill_value='?',\n",
       "             dtype=object),\n",
       " 'params': [{'optimizer': 'SGD'},\n",
       "  {'optimizer': 'RMSprop'},\n",
       "  {'optimizer': 'Adagrad'}],\n",
       " 'split0_test_score': array([-2.06601282e-04, -8.05375093e-05, -1.08054403e-04]),\n",
       " 'split1_test_score': array([-8.58424319e-05, -1.16778276e-04, -8.02037539e-05]),\n",
       " 'split2_test_score': array([-8.94554105e-05, -7.68557802e-05, -7.63372445e-05]),\n",
       " 'split3_test_score': array([-0.00018488, -0.00014443, -0.00013005]),\n",
       " 'split4_test_score': array([-1.69184073e-04, -9.50282993e-05, -8.46659241e-05]),\n",
       " 'mean_test_score': array([-1.47192064e-04, -1.02725947e-04, -9.58619101e-05]),\n",
       " 'std_test_score': array([5.00610941e-05, 2.51297875e-05, 2.03425738e-05]),\n",
       " 'rank_test_score': array([3, 2, 1])}"
      ]
     },
     "execution_count": 70,
     "metadata": {},
     "output_type": "execute_result"
    }
   ],
   "source": [
    "grid_result.cv_results_"
   ]
  },
  {
   "cell_type": "code",
   "execution_count": 71,
   "metadata": {},
   "outputs": [
    {
     "data": {
      "text/plain": [
       "-9.586191008565947e-05"
      ]
     },
     "execution_count": 71,
     "metadata": {},
     "output_type": "execute_result"
    }
   ],
   "source": [
    "grid_result.best_score_"
   ]
  },
  {
   "cell_type": "code",
   "execution_count": 72,
   "metadata": {},
   "outputs": [
    {
     "data": {
      "text/plain": [
       "{'optimizer': 'Adagrad'}"
      ]
     },
     "execution_count": 72,
     "metadata": {},
     "output_type": "execute_result"
    }
   ],
   "source": [
    "grid_result.best_params_"
   ]
  },
  {
   "cell_type": "code",
   "execution_count": 73,
   "metadata": {},
   "outputs": [
    {
     "data": {
      "text/plain": [
       "array([0.45059818, 0.4491989 , 0.14133051, ..., 0.81675255, 0.15900016,\n",
       "       0.84108925], dtype=float32)"
      ]
     },
     "execution_count": 73,
     "metadata": {},
     "output_type": "execute_result"
    }
   ],
   "source": [
    "grid_result.predict(X_test)"
   ]
  },
  {
   "cell_type": "code",
   "execution_count": 74,
   "metadata": {},
   "outputs": [
    {
     "data": {
      "text/plain": [
       "array([[0.45069855],\n",
       "       [0.46359484],\n",
       "       [0.14199355],\n",
       "       ...,\n",
       "       [0.80924234],\n",
       "       [0.16120365],\n",
       "       [0.84403546]])"
      ]
     },
     "execution_count": 74,
     "metadata": {},
     "output_type": "execute_result"
    }
   ],
   "source": [
    "y_test"
   ]
  },
  {
   "cell_type": "code",
   "execution_count": null,
   "metadata": {},
   "outputs": [],
   "source": []
  }
 ],
 "metadata": {
  "kernelspec": {
   "display_name": "Python 3.10.5 64-bit",
   "language": "python",
   "name": "python3"
  },
  "language_info": {
   "codemirror_mode": {
    "name": "ipython",
    "version": 3
   },
   "file_extension": ".py",
   "mimetype": "text/x-python",
   "name": "python",
   "nbconvert_exporter": "python",
   "pygments_lexer": "ipython3",
   "version": "3.10.5"
  },
  "orig_nbformat": 4,
  "vscode": {
   "interpreter": {
    "hash": "229cdfb8eedfa4964725b7eb0da8d7a63b25d97a6ab808f09bd6b506844c0629"
   }
  }
 },
 "nbformat": 4,
 "nbformat_minor": 2
}
